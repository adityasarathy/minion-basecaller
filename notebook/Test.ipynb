{
 "cells": [
  {
   "cell_type": "code",
   "execution_count": 1,
   "metadata": {
    "collapsed": true
   },
   "outputs": [],
   "source": [
    "import os\n",
    "import matplotlib.pyplot as plt\n",
    "import seaborn as sns\n",
    "import numpy as np\n",
    "import h5py\n",
    "import pandas as pd\n",
    "%matplotlib inline\n",
    "import random\n",
    "from tqdm import tqdm\n",
    "import sys"
   ]
  },
  {
   "cell_type": "code",
   "execution_count": 2,
   "metadata": {
    "collapsed": true
   },
   "outputs": [],
   "source": [
    "sys.path.append(\"/home/nmiculinic/minion-basecaller/src/\")"
   ]
  },
  {
   "cell_type": "code",
   "execution_count": 3,
   "metadata": {
    "collapsed": false
   },
   "outputs": [],
   "source": [
    "%load_ext autoreload\n",
    "%autoreload 1"
   ]
  },
  {
   "cell_type": "code",
   "execution_count": 4,
   "metadata": {
    "collapsed": true
   },
   "outputs": [],
   "source": [
    "%aimport util\n",
    "%aimport input_readers"
   ]
  },
  {
   "cell_type": "code",
   "execution_count": 77,
   "metadata": {
    "collapsed": false
   },
   "outputs": [
    {
     "name": "stdout",
     "output_type": "stream",
     "text": [
      "/hgst8TB/fjurisic/ecoli/pass/26075_ch63_read164_strand.fast5 (1000, 3)\n",
      "/hgst8TB/fjurisic/ecoli/pass/66703_ch46_read77_strand.fast5 (1000, 3)\n",
      "/hgst8TB/fjurisic/ecoli/pass/58342_ch379_read8_strand.fast5 (1000, 3)\n",
      "/hgst8TB/fjurisic/ecoli/pass/66703_ch254_read493_strand.fast5 (1000, 3)\n",
      "/hgst8TB/fjurisic/ecoli/pass/26075_ch432_read63_strand.fast5 (1000, 3)\n",
      "/hgst8TB/fjurisic/ecoli/pass/40525_ch162_read264_strand.fast5 (1000, 3)\n",
      "/hgst8TB/fjurisic/ecoli/pass/58342_ch96_read13775_strand.fast5 (1000, 3)\n",
      "/hgst8TB/fjurisic/ecoli/pass/66703_ch182_read315_strand.fast5 (1000, 3)\n",
      "/hgst8TB/fjurisic/ecoli/pass/66703_ch144_read46_strand.fast5 (1000, 3)\n",
      "/hgst8TB/fjurisic/ecoli/pass/40525_ch464_read109_strand.fast5 (1000, 3)\n",
      "/hgst8TB/fjurisic/ecoli/pass/66703_ch7_read214_strand.fast5 (1000, 3)\n",
      "/hgst8TB/fjurisic/ecoli/pass/95274_ch165_read17_strand.fast5 (1000, 3)\n",
      "y_len 0, skipping\n",
      "/hgst8TB/fjurisic/ecoli/pass/66703_ch254_read90_strand.fast5 (1000, 3)\n",
      "/hgst8TB/fjurisic/ecoli/pass/95274_ch178_read805_strand.fast5 (1000, 3)\n",
      "/hgst8TB/fjurisic/ecoli/pass/95274_ch381_read48_strand1.fast5 (1000, 3)\n",
      "/hgst8TB/fjurisic/ecoli/pass/26075_ch63_read441_strand.fast5 (1000, 3)\n",
      "/hgst8TB/fjurisic/ecoli/pass/40525_ch152_read309_strand.fast5 (1000, 3)\n",
      "/hgst8TB/fjurisic/ecoli/pass/40525_ch172_read1231_strand.fast5 (1000, 3)\n",
      "/hgst8TB/fjurisic/ecoli/pass/40525_ch109_read374_strand.fast5 (1000, 3)\n",
      "/hgst8TB/fjurisic/ecoli/pass/40525_ch350_read57_strand.fast5 (1000, 3)\n",
      "y_len 0, skipping\n",
      "/hgst8TB/fjurisic/ecoli/pass/95274_ch34_read831_strand1.fast5 (1000, 3)\n",
      "/hgst8TB/fjurisic/ecoli/pass/40525_ch161_read329_strand.fast5 (1000, 3)\n",
      "/hgst8TB/fjurisic/ecoli/pass/40525_ch63_read146_strand.fast5 (1000, 3)\n",
      "/hgst8TB/fjurisic/ecoli/pass/66703_ch197_read92_strand.fast5 (1000, 3)\n",
      "y_len 0, skipping\n",
      "/hgst8TB/fjurisic/ecoli/pass/40525_ch357_read231_strand.fast5 (1000, 3)\n",
      "/hgst8TB/fjurisic/ecoli/pass/66703_ch89_read260_strand1.fast5 (1000, 3)\n",
      "/hgst8TB/fjurisic/ecoli/pass/40525_ch424_read658_strand.fast5 (1000, 3)\n",
      "/hgst8TB/fjurisic/ecoli/pass/95274_ch366_read1142_strand.fast5 (1000, 3)\n",
      "/hgst8TB/fjurisic/ecoli/pass/26075_ch505_read2180_strand1.fast5 (1000, 3)\n",
      "/hgst8TB/fjurisic/ecoli/pass/26075_ch478_read206_strand.fast5 (1000, 3)\n",
      "/hgst8TB/fjurisic/ecoli/pass/26075_ch85_read1216_strand.fast5 (1000, 3)\n",
      "/hgst8TB/fjurisic/ecoli/pass/95274_ch198_read2252_strand.fast5 (1000, 3)\n",
      "/hgst8TB/fjurisic/ecoli/pass/40525_ch403_read121_strand.fast5 (1000, 3)\n",
      "/hgst8TB/fjurisic/ecoli/pass/26075_ch256_read761_strand.fast5 (1000, 3)\n",
      "/hgst8TB/fjurisic/ecoli/pass/66703_ch152_read102_strand.fast5 (1000, 3)\n",
      "/hgst8TB/fjurisic/ecoli/pass/26075_ch176_read344_strand.fast5 (1000, 3)\n",
      "/hgst8TB/fjurisic/ecoli/pass/66703_ch397_read248_strand.fast5 (1000, 3)\n",
      "/hgst8TB/fjurisic/ecoli/pass/26075_ch222_read5276_strand1.fast5 (1000, 3)\n",
      "/hgst8TB/fjurisic/ecoli/pass/26075_ch401_read16838_strand.fast5 (1000, 3)\n",
      "/hgst8TB/fjurisic/ecoli/pass/40525_ch34_read298_strand.fast5 (1000, 3)\n",
      "/hgst8TB/fjurisic/ecoli/pass/26075_ch271_read540_strand.fast5 (1000, 3)\n",
      "/hgst8TB/fjurisic/ecoli/pass/26075_ch70_read5875_strand.fast5 (1000, 3)\n",
      "/hgst8TB/fjurisic/ecoli/pass/40525_ch58_read526_strand.fast5 (1000, 3)\n",
      "/hgst8TB/fjurisic/ecoli/pass/26075_ch433_read1449_strand.fast5 (1000, 3)\n",
      "/hgst8TB/fjurisic/ecoli/pass/40525_ch137_read369_strand.fast5 (1000, 3)\n",
      "/hgst8TB/fjurisic/ecoli/pass/66703_ch473_read32_strand.fast5 (1000, 3)\n",
      "/hgst8TB/fjurisic/ecoli/pass/58342_ch45_read1823_strand1.fast5 (1000, 3)\n",
      "/hgst8TB/fjurisic/ecoli/pass/26075_ch399_read331_strand.fast5 (1000, 3)\n",
      "/hgst8TB/fjurisic/ecoli/pass/40525_ch433_read370_strand.fast5 (1000, 3)\n",
      "/hgst8TB/fjurisic/ecoli/pass/95274_ch352_read938_strand.fast5 (1000, 3)\n",
      "/hgst8TB/fjurisic/ecoli/pass/66703_ch158_read120_strand.fast5 (1000, 3)\n",
      "/hgst8TB/fjurisic/ecoli/pass/66703_ch473_read397_strand.fast5 (1000, 3)\n",
      "/hgst8TB/fjurisic/ecoli/pass/26075_ch110_read460_strand.fast5 (1000, 3)\n",
      "/hgst8TB/fjurisic/ecoli/pass/40525_ch489_read414_strand.fast5 (1000, 3)\n",
      "/hgst8TB/fjurisic/ecoli/pass/66703_ch80_read683_strand.fast5 (1000, 3)\n",
      "/hgst8TB/fjurisic/ecoli/pass/66703_ch27_read601_strand.fast5 (1000, 3)\n",
      "/hgst8TB/fjurisic/ecoli/pass/40525_ch143_read619_strand.fast5 (1000, 3)\n",
      "/hgst8TB/fjurisic/ecoli/pass/95274_ch77_read357_strand.fast5 (1000, 3)\n",
      "/hgst8TB/fjurisic/ecoli/pass/66703_ch186_read188_strand.fast5 (1000, 3)\n",
      "/hgst8TB/fjurisic/ecoli/pass/95274_ch299_read279_strand1.fast5 (1000, 3)\n",
      "/hgst8TB/fjurisic/ecoli/pass/66703_ch255_read214_strand1.fast5 (1000, 3)\n",
      "/hgst8TB/fjurisic/ecoli/pass/40525_ch208_read419_strand.fast5 (1000, 3)\n",
      "/hgst8TB/fjurisic/ecoli/pass/66703_ch207_read567_strand.fast5 (1000, 3)\n",
      "/hgst8TB/fjurisic/ecoli/pass/66703_ch313_read474_strand1.fast5 (1000, 3)\n",
      "/hgst8TB/fjurisic/ecoli/pass/40525_ch297_read679_strand.fast5 (1000, 3)\n",
      "/hgst8TB/fjurisic/ecoli/pass/66703_ch503_read732_strand.fast5 (1000, 3)\n",
      "/hgst8TB/fjurisic/ecoli/pass/40525_ch446_read166_strand.fast5 (1000, 3)\n",
      "/hgst8TB/fjurisic/ecoli/pass/26075_ch168_read650_strand.fast5 (1000, 3)\n",
      "y_len 0, skipping\n",
      "/hgst8TB/fjurisic/ecoli/pass/26075_ch256_read502_strand.fast5 (1000, 3)\n",
      "/hgst8TB/fjurisic/ecoli/pass/40525_ch234_read258_strand.fast5 (1000, 3)\n",
      "/hgst8TB/fjurisic/ecoli/pass/40525_ch410_read169_strand.fast5 (1000, 3)\n",
      "/hgst8TB/fjurisic/ecoli/pass/66703_ch492_read461_strand.fast5 (1000, 3)\n",
      "/hgst8TB/fjurisic/ecoli/pass/26075_ch401_read2820_strand.fast5 (1000, 3)\n",
      "/hgst8TB/fjurisic/ecoli/pass/95274_ch417_read954_strand.fast5 (1000, 3)\n",
      "/hgst8TB/fjurisic/ecoli/pass/26075_ch84_read5166_strand.fast5 (1000, 3)\n",
      "/hgst8TB/fjurisic/ecoli/pass/66703_ch169_read726_strand.fast5 (1000, 3)\n",
      "y_len 0, skipping\n",
      "/hgst8TB/fjurisic/ecoli/pass/26075_ch161_read656_strand.fast5 (1000, 3)\n",
      "/hgst8TB/fjurisic/ecoli/pass/40525_ch156_read261_strand.fast5 (1000, 3)\n",
      "/hgst8TB/fjurisic/ecoli/pass/26075_ch227_read1576_strand.fast5 (1000, 3)\n",
      "/hgst8TB/fjurisic/ecoli/pass/40525_ch464_read157_strand.fast5 (1000, 3)\n",
      "/hgst8TB/fjurisic/ecoli/pass/95274_ch178_read751_strand.fast5 (1000, 3)\n",
      "/hgst8TB/fjurisic/ecoli/pass/66703_ch285_read109_strand.fast5 (1000, 3)\n",
      "/hgst8TB/fjurisic/ecoli/pass/95274_ch354_read957_strand.fast5 (1000, 3)\n",
      "/hgst8TB/fjurisic/ecoli/pass/58342_ch117_read9744_strand.fast5 (1000, 3)\n",
      "/hgst8TB/fjurisic/ecoli/pass/26075_ch433_read1296_strand1.fast5 (1000, 3)\n",
      "/hgst8TB/fjurisic/ecoli/pass/40525_ch220_read411_strand.fast5 (1000, 3)\n",
      "/hgst8TB/fjurisic/ecoli/pass/26075_ch445_read407_strand.fast5 (1000, 3)\n",
      "/hgst8TB/fjurisic/ecoli/pass/66703_ch150_read82_strand1.fast5 (1000, 3)\n",
      "/hgst8TB/fjurisic/ecoli/pass/58342_ch183_read295_strand.fast5 (1000, 3)\n",
      "/hgst8TB/fjurisic/ecoli/pass/66703_ch184_read468_strand1.fast5 (1000, 3)\n",
      "/hgst8TB/fjurisic/ecoli/pass/40525_ch323_read23_strand.fast5 (1000, 3)\n",
      "/hgst8TB/fjurisic/ecoli/pass/66703_ch366_read27_strand.fast5 (1000, 3)\n",
      "/hgst8TB/fjurisic/ecoli/pass/40525_ch271_read49_strand.fast5 (1000, 3)\n",
      "/hgst8TB/fjurisic/ecoli/pass/66703_ch278_read40_strand.fast5 (1000, 3)\n",
      "/hgst8TB/fjurisic/ecoli/pass/26075_ch360_read223_strand1.fast5 (1000, 3)\n",
      "X_enqueue_val (95, 1000, 3)\n",
      "X_len_enqueue_val (95,)\n",
      "Y_enqueue_val (95, 1000)\n",
      "Y_len_enqueue_val (95, 10)\n"
     ]
    },
    {
     "data": {
      "text/plain": [
       "(array([-0.00749194,  0.03945987,  0.0216876 ], dtype=float32),\n",
       " array([ 0.99600428,  0.98559129,  0.91115129], dtype=float32))"
      ]
     },
     "execution_count": 77,
     "metadata": {},
     "output_type": "execute_result"
    }
   ],
   "source": [
    "hh = input_readers.get_feed_yield2(100, 10, batch_size=100)\n",
    "gg = next(hh)\n",
    "g = gg['X_enqueue_val']\n",
    "for k, v in gg.items():\n",
    "    print(k, v.shape)\n",
    "np.mean(g, axis=(0,1)), np.std(g, axis=(0,1))"
   ]
  },
  {
   "cell_type": "code",
   "execution_count": 68,
   "metadata": {
    "collapsed": false
   },
   "outputs": [
    {
     "name": "stdout",
     "output_type": "stream",
     "text": [
      "(250, 3)\n",
      "(250, 3)\n",
      "(250, 3)\n",
      "(250, 3)\n",
      "(250, 3)\n",
      "(250, 3)\n",
      "(250, 3)\n",
      "(250, 3)\n",
      "(250, 3)\n",
      "(250, 3)\n",
      "(250, 3)\n",
      "(250, 3)\n",
      "(250, 3)\n",
      "(250, 3)\n",
      "(250, 3)\n",
      "(250, 3)\n",
      "(250, 3)\n",
      "(250, 3)\n",
      "(250, 3)\n",
      "(250, 3)\n",
      "(250, 3)\n",
      "(250, 3)\n",
      "(250, 3)\n",
      "(250, 3)\n",
      "(25, 3)\n",
      "(250, 3)\n",
      "(250, 3)\n",
      "(250, 3)\n",
      "(250, 3)\n",
      "(250, 3)\n",
      "(250, 3)\n",
      "(250, 3)\n",
      "(250, 3)\n",
      "(250, 3)\n",
      "(25, 3)\n",
      "(250, 3)\n",
      "(250, 3)\n",
      "(250, 3)\n",
      "(250, 3)\n",
      "(250, 3)\n",
      "(250, 3)\n",
      "(250, 3)\n",
      "(250, 3)\n",
      "(250, 3)\n",
      "(250, 3)\n",
      "(250, 3)\n",
      "(250, 3)\n",
      "(250, 3)\n",
      "(250, 3)\n",
      "(250, 3)\n",
      "(250, 3)\n",
      "(250, 3)\n",
      "(250, 3)\n",
      "(250, 3)\n",
      "(250, 3)\n",
      "(250, 3)\n",
      "(250, 3)\n",
      "(250, 3)\n",
      "(250, 3)\n",
      "(250, 3)\n",
      "(250, 3)\n",
      "(250, 3)\n",
      "(250, 3)\n",
      "(250, 3)\n",
      "(250, 3)\n",
      "(250, 3)\n",
      "(250, 3)\n",
      "(250, 3)\n",
      "(250, 3)\n",
      "(250, 3)\n",
      "(250, 3)\n",
      "(250, 3)\n",
      "(250, 3)\n",
      "(250, 3)\n",
      "(250, 3)\n",
      "(250, 3)\n",
      "(250, 3)\n",
      "(250, 3)\n",
      "(250, 3)\n",
      "(250, 3)\n",
      "(250, 3)\n",
      "(250, 3)\n",
      "(250, 3)\n",
      "(250, 3)\n",
      "(250, 3)\n",
      "(250, 3)\n",
      "(250, 3)\n",
      "(250, 3)\n",
      "(250, 3)\n"
     ]
    }
   ],
   "source": [
    "for x in g:\n",
    "    print(x.shape)"
   ]
  }
 ],
 "metadata": {
  "kernelspec": {
   "display_name": "Python 3",
   "language": "python",
   "name": "python3"
  },
  "language_info": {
   "codemirror_mode": {
    "name": "ipython",
    "version": 3
   },
   "file_extension": ".py",
   "mimetype": "text/x-python",
   "name": "python",
   "nbconvert_exporter": "python",
   "pygments_lexer": "ipython3",
   "version": "3.5.2"
  }
 },
 "nbformat": 4,
 "nbformat_minor": 1
}
